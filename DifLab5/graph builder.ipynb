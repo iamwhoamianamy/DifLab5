{
 "metadata": {
  "language_info": {
   "codemirror_mode": {
    "name": "ipython",
    "version": 3
   },
   "file_extension": ".py",
   "mimetype": "text/x-python",
   "name": "python",
   "nbconvert_exporter": "python",
   "pygments_lexer": "ipython3",
   "version": "3.8.3-final"
  },
  "orig_nbformat": 2,
  "kernelspec": {
   "name": "python3",
   "display_name": "Python 3",
   "language": "python"
  }
 },
 "nbformat": 4,
 "nbformat_minor": 2,
 "cells": [
  {
   "cell_type": "code",
   "execution_count": null,
   "metadata": {},
   "outputs": [],
   "source": [
    "import numpy as np\n",
    "import matplotlib.pyplot as plt"
   ]
  },
  {
   "cell_type": "code",
   "execution_count": null,
   "metadata": {},
   "outputs": [],
   "source": [
    "def save_graph(x, y, x_name, y_name, path):\n",
    "    fig, ax = plt.subplots()\n",
    "    ax.plot(x, y)\n",
    "\n",
    "    ax.set(xlabel=x_name, ylabel=y_name,\n",
    "        title='h = ' + test )\n",
    "    ax.grid()\n",
    "\n",
    "    fig.savefig(path + filename + y_name + \".png\")"
   ]
  },
  {
   "cell_type": "code",
   "execution_count": null,
   "metadata": {},
   "outputs": [],
   "source": [
    "infofile = open(\"reports/info.txt\", \"r\")\n",
    "info = infofile.readline().split(' ')\n",
    "info.remove(\"\")\n",
    "\n",
    "print(info)"
   ]
  },
  {
   "cell_type": "code",
   "execution_count": null,
   "metadata": {},
   "outputs": [],
   "source": [
    "folder = \"reports/\"\n",
    "\n",
    "for info_item in info:\n",
    "    test = \"1e\" + info_item\n",
    "\n",
    "    filename = \"adams3_\" + test + \"_vals\"\n",
    "    openfile = open(folder + filename  + \".txt\", 'r') \n",
    "    lines = openfile.readlines()\n",
    "    coords = np.empty((len(lines),3))\n",
    "\n",
    "    for i in range(len(lines)):\n",
    "        l = lines[i].split(',')\n",
    "        coords[i] = l\n",
    "\n",
    "    openfile.close()\n",
    "\n",
    "    # Data for plotting\n",
    "    t = coords[:, 0]\n",
    "    p = coords[:, 1]\n",
    "    q = coords[:, 2]\n",
    "\n",
    "    save_graph(t, p, \"t\", \"p\", \"reports/graphs/\")\n",
    "    save_graph(t, q, \"t\", \"q\", \"reports/graphs/\")\n",
    "\n",
    "    plt.show()"
   ]
  },
  {
   "cell_type": "code",
   "execution_count": null,
   "metadata": {},
   "outputs": [],
   "source": []
  }
 ]
}